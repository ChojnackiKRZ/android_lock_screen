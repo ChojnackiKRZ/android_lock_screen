{
  "nbformat": 4,
  "nbformat_minor": 0,
  "metadata": {
    "colab": {
      "name": "android_lock_screen.ipynb",
      "provenance": [],
      "authorship_tag": "ABX9TyNU11+3FAj2wsb3MhFeLttZ",
      "include_colab_link": true
    },
    "kernelspec": {
      "name": "python3",
      "display_name": "Python 3"
    },
    "language_info": {
      "name": "python"
    }
  },
  "cells": [
    {
      "cell_type": "markdown",
      "metadata": {
        "id": "view-in-github",
        "colab_type": "text"
      },
      "source": [
        "<a href=\"https://colab.research.google.com/github/ChojnackiKRZ/android_lock_screen/blob/main/android_lock_screen.ipynb\" target=\"_parent\"><img src=\"https://colab.research.google.com/assets/colab-badge.svg\" alt=\"Open In Colab\"/></a>"
      ]
    },
    {
      "cell_type": "markdown",
      "source": [
        "# **Założenia i artykuły**\n",
        "\n",
        "Artykuły:\n",
        "1. https://www.usenix.org/legacy/event/woot10/tech/full_papers/Aviv.pdf\n",
        "1. https://link.springer.com/chapter/10.1007/978-3-319-39555-5_34\n",
        "1. https://mdsoar.org/bitstream/handle/11603/19908/soups2015_posters-final8.pdf?sequence=1&isAllowed=y\n",
        "1. https://adamoudad.github.io/posts/lock_pattern/\n",
        "\n",
        "Założenia:\n",
        "1. Przynajmniej 4 punkty\n",
        "1. Jeden punkt -> jedno uzycie\n",
        "1. Uzyty punkt moze sluzyc jako droga do innego punktu"
      ],
      "metadata": {
        "id": "74sE5dmyL_0G"
      }
    },
    {
      "cell_type": "code",
      "source": [
        "przeciecia = {\n",
        "    1: {3:2, 7:4, 9:5},\n",
        "    2: {8:5},\n",
        "    3: {1:2, 7:5, 9:6},\n",
        "    4: {6:5},\n",
        "    5: {},\n",
        "    6: {4:5},\n",
        "    7: {1:4, 3:5, 9:8},\n",
        "    8: {2:5},\n",
        "    9: {1:5, 3:6, 7:8}\n",
        "}\n",
        "\n",
        "def kolejne_kroki(ilosc_krokow):\n",
        "    return (n for n in range(1,10) if (not ilosc_krokow or n not in ilosc_krokow and \n",
        "                                       (n not in przeciecia[ilosc_krokow[-1]] \n",
        "                                        or przeciecia[ilosc_krokow[-1]][n] in ilosc_krokow)))\n",
        "\n",
        "def ilosc_mozliwosci(ilosc_krokow, kroki):\n",
        "    if kroki == 0:\n",
        "        return 1\n",
        "    return sum(ilosc_mozliwosci(ilosc_krokow+[n], kroki-1) for n in kolejne_kroki(ilosc_krokow))\n"
      ],
      "metadata": {
        "id": "JrGyitAWML3V"
      },
      "execution_count": 2,
      "outputs": []
    },
    {
      "cell_type": "markdown",
      "source": [
        "Poniżej dla założonej długości naszego \"hasła\" mamy podaną ilość możliwości.\n",
        "Przykładowo: dla hasła długości 9 jest 9 możliwości (9 kropek :)).\n",
        "Dla androida minimum to 4, a więc rozważamy przykłady od 4 w dół."
      ],
      "metadata": {
        "id": "ybO-EAz0Na6e"
      }
    },
    {
      "cell_type": "code",
      "source": [
        "[(steps, ilosc_mozliwosci([], steps)) for steps in range(1,10)]"
      ],
      "metadata": {
        "colab": {
          "base_uri": "https://localhost:8080/"
        },
        "id": "onZfSH6RMr4P",
        "outputId": "30ff6b38-07df-416a-d943-f3b3dc89e8b0"
      },
      "execution_count": 3,
      "outputs": [
        {
          "output_type": "execute_result",
          "data": {
            "text/plain": [
              "[(1, 9),\n",
              " (2, 56),\n",
              " (3, 320),\n",
              " (4, 1624),\n",
              " (5, 7152),\n",
              " (6, 26016),\n",
              " (7, 72912),\n",
              " (8, 140704),\n",
              " (9, 140704)]"
            ]
          },
          "metadata": {},
          "execution_count": 3
        }
      ]
    },
    {
      "cell_type": "markdown",
      "source": [
        "Sumując możliowści dla 4 w dół otrzymujemy wynik."
      ],
      "metadata": {
        "id": "L_7C5Ts2N4mY"
      }
    },
    {
      "cell_type": "code",
      "source": [
        "sum(ilosc_mozliwosci([], steps) for steps in range(4,10))"
      ],
      "metadata": {
        "colab": {
          "base_uri": "https://localhost:8080/"
        },
        "id": "xzgVH3LuMum5",
        "outputId": "dcbd7180-4b54-481a-c48f-3f380e6384c0"
      },
      "execution_count": 4,
      "outputs": [
        {
          "output_type": "execute_result",
          "data": {
            "text/plain": [
              "389112"
            ]
          },
          "metadata": {},
          "execution_count": 4
        }
      ]
    }
  ]
}